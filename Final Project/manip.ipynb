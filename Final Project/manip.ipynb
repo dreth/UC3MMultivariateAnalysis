{
 "metadata": {
  "language_info": {
   "codemirror_mode": {
    "name": "ipython",
    "version": 3
   },
   "file_extension": ".py",
   "mimetype": "text/x-python",
   "name": "python",
   "nbconvert_exporter": "python",
   "pygments_lexer": "ipython3",
   "version": "3.8.3-final"
  },
  "orig_nbformat": 2,
  "kernelspec": {
   "name": "python3",
   "display_name": "Python 3"
  }
 },
 "nbformat": 4,
 "nbformat_minor": 2,
 "cells": [
  {
   "cell_type": "code",
   "execution_count": 4,
   "metadata": {},
   "outputs": [],
   "source": [
    "import pandas as pd\n",
    "import numpy as np\n",
    "import datetime as dt"
   ]
  },
  {
   "cell_type": "code",
   "execution_count": 21,
   "metadata": {},
   "outputs": [],
   "source": [
    "# import\n",
    "data = pd.read_csv('./covid.csv')\n",
    "\n",
    "# stripping whitespaces from colnames\n",
    "data.columns = [x.strip() for x in data.columns]\n",
    "\n",
    "# converting column to datetime\n",
    "data['date'] = pd.to_datetime(data['date'])\n",
    "\n",
    "# setting the date equal to the day we acquired the dataset\n",
    "data = data[data['date'] == '2020-11-15']\n",
    "\n",
    "# dropping the date column as we will no longer use it\n",
    "data = data.drop('date',axis=1)\n",
    "\n",
    "# exporting the data\n",
    "data.to_csv('data.csv')"
   ]
  },
  {
   "cell_type": "code",
   "execution_count": null,
   "metadata": {},
   "outputs": [],
   "source": []
  }
 ]
}