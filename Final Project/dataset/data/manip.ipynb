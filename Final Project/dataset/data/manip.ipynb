{
 "metadata": {
  "language_info": {
   "codemirror_mode": {
    "name": "ipython",
    "version": 3
   },
   "file_extension": ".py",
   "mimetype": "text/x-python",
   "name": "python",
   "nbconvert_exporter": "python",
   "pygments_lexer": "ipython3",
   "version": "3.8.3-final"
  },
  "orig_nbformat": 2,
  "kernelspec": {
   "name": "python3",
   "display_name": "Python 3"
  }
 },
 "nbformat": 4,
 "nbformat_minor": 2,
 "cells": [
  {
   "cell_type": "code",
   "execution_count": 21,
   "metadata": {},
   "outputs": [],
   "source": [
    "import pandas as pd\n",
    "import numpy as np\n",
    "import datetime as dt"
   ]
  },
  {
   "cell_type": "code",
   "execution_count": 22,
   "metadata": {},
   "outputs": [],
   "source": [
    "# import\n",
    "data = pd.read_csv('./covid.csv')\n",
    "\n",
    "# stripping whitespaces from colnames\n",
    "data.columns = [x.strip() for x in data.columns]\n",
    "\n",
    "# converting column to datetime\n",
    "data['date'] = pd.to_datetime(data['date'])"
   ]
  },
  {
   "cell_type": "code",
   "execution_count": 23,
   "metadata": {},
   "outputs": [],
   "source": [
    "# filtering whole world values\n",
    "data = data[data['location'] != 'International']\n",
    "\n",
    "# filtering for the date 2020-11-03\n",
    "data = data[data['date'] == '2020-11-03']\n",
    "\n",
    "# drop date column\n",
    "data = data.drop('date', axis=1)\n",
    "\n",
    "# columns to drop\n",
    "cols_drop = ['iso_code','tests_units','handwashing_facilities','tests_per_case','new_deaths_smoothed_per_million' ,'reproduction_rate' ,'icu_patients' ,'icu_patients_per_million' ,'hosp_patients' ,'hosp_patients_per_million' ,'weekly_icu_admissions' ,'weekly_icu_admissions_per_million' ,'weekly_hosp_admissions' ,'weekly_hosp_admissions_per_million', 'total_tests' ,'new_tests' ,'total_tests_per_thousand' ,'new_tests_per_thousand' ,'new_tests_smoothed' ,'new_tests_smoothed_per_thousand' ,'positive_rate','female_smokers' ,'male_smokers']\n",
    "\n",
    "# dropping cols to drop\n",
    "data = data.drop(cols_drop, axis=1).reset_index(drop=True)\n",
    "\n",
    "# drop na columns\n",
    "data = data[data['human_development_index'].notnull()]\n",
    "data = data[data['total_cases'].notnull()]\n",
    "data = data.dropna(how='all').reset_index(drop=True)\n"
   ]
  },
  {
   "cell_type": "code",
   "execution_count": 24,
   "metadata": {},
   "outputs": [],
   "source": [
    "# HDI classif\n",
    "hdis = []\n",
    "for x in data['human_development_index'].values:\n",
    "    if x >= 0.8:\n",
    "        hdis.append('very high')\n",
    "    elif x < 0.8 and x >= 0.7:\n",
    "        hdis.append('high')\n",
    "    elif x < 0.7 and x >= 0.55:\n",
    "        hdis.append('medium')\n",
    "    elif x < 0.55:\n",
    "        hdis.append('low')\n",
    "data['development'] = hdis"
   ]
  },
  {
   "cell_type": "code",
   "execution_count": 25,
   "metadata": {},
   "outputs": [],
   "source": [
    "# csv export\n",
    "data.to_csv('data.csv')"
   ]
  },
  {
   "cell_type": "code",
   "execution_count": 26,
   "metadata": {},
   "outputs": [
    {
     "output_type": "execute_result",
     "data": {
      "text/plain": [
       "                               col  count\n",
       "26                     development      4\n",
       "0                        continent      6\n",
       "6                       new_deaths     54\n",
       "20                 extreme_poverty     73\n",
       "13                stringency_index     74\n",
       "7              new_deaths_smoothed     92\n",
       "23      hospital_beds_per_thousand     98\n",
       "12          new_deaths_per_million    100\n",
       "16                      median_age    127\n",
       "3                        new_cases    128\n",
       "22             diabetes_prevalence    131\n",
       "9            new_cases_per_million    148\n",
       "5                     total_deaths    153\n",
       "25         human_development_index    156\n",
       "4               new_cases_smoothed    157\n",
       "11        total_deaths_per_million    167\n",
       "24                 life_expectancy    171\n",
       "18                   aged_70_older    171\n",
       "10  new_cases_smoothed_per_million    173\n",
       "17                   aged_65_older    174\n",
       "19                  gdp_per_capita    177\n",
       "21           cardiovasc_death_rate    179\n",
       "15              population_density    179\n",
       "2                      total_cases    181\n",
       "8          total_cases_per_million    181\n",
       "1                         location    181\n",
       "14                      population    181"
      ],
      "text/html": "<div>\n<style scoped>\n    .dataframe tbody tr th:only-of-type {\n        vertical-align: middle;\n    }\n\n    .dataframe tbody tr th {\n        vertical-align: top;\n    }\n\n    .dataframe thead th {\n        text-align: right;\n    }\n</style>\n<table border=\"1\" class=\"dataframe\">\n  <thead>\n    <tr style=\"text-align: right;\">\n      <th></th>\n      <th>col</th>\n      <th>count</th>\n    </tr>\n  </thead>\n  <tbody>\n    <tr>\n      <th>26</th>\n      <td>development</td>\n      <td>4</td>\n    </tr>\n    <tr>\n      <th>0</th>\n      <td>continent</td>\n      <td>6</td>\n    </tr>\n    <tr>\n      <th>6</th>\n      <td>new_deaths</td>\n      <td>54</td>\n    </tr>\n    <tr>\n      <th>20</th>\n      <td>extreme_poverty</td>\n      <td>73</td>\n    </tr>\n    <tr>\n      <th>13</th>\n      <td>stringency_index</td>\n      <td>74</td>\n    </tr>\n    <tr>\n      <th>7</th>\n      <td>new_deaths_smoothed</td>\n      <td>92</td>\n    </tr>\n    <tr>\n      <th>23</th>\n      <td>hospital_beds_per_thousand</td>\n      <td>98</td>\n    </tr>\n    <tr>\n      <th>12</th>\n      <td>new_deaths_per_million</td>\n      <td>100</td>\n    </tr>\n    <tr>\n      <th>16</th>\n      <td>median_age</td>\n      <td>127</td>\n    </tr>\n    <tr>\n      <th>3</th>\n      <td>new_cases</td>\n      <td>128</td>\n    </tr>\n    <tr>\n      <th>22</th>\n      <td>diabetes_prevalence</td>\n      <td>131</td>\n    </tr>\n    <tr>\n      <th>9</th>\n      <td>new_cases_per_million</td>\n      <td>148</td>\n    </tr>\n    <tr>\n      <th>5</th>\n      <td>total_deaths</td>\n      <td>153</td>\n    </tr>\n    <tr>\n      <th>25</th>\n      <td>human_development_index</td>\n      <td>156</td>\n    </tr>\n    <tr>\n      <th>4</th>\n      <td>new_cases_smoothed</td>\n      <td>157</td>\n    </tr>\n    <tr>\n      <th>11</th>\n      <td>total_deaths_per_million</td>\n      <td>167</td>\n    </tr>\n    <tr>\n      <th>24</th>\n      <td>life_expectancy</td>\n      <td>171</td>\n    </tr>\n    <tr>\n      <th>18</th>\n      <td>aged_70_older</td>\n      <td>171</td>\n    </tr>\n    <tr>\n      <th>10</th>\n      <td>new_cases_smoothed_per_million</td>\n      <td>173</td>\n    </tr>\n    <tr>\n      <th>17</th>\n      <td>aged_65_older</td>\n      <td>174</td>\n    </tr>\n    <tr>\n      <th>19</th>\n      <td>gdp_per_capita</td>\n      <td>177</td>\n    </tr>\n    <tr>\n      <th>21</th>\n      <td>cardiovasc_death_rate</td>\n      <td>179</td>\n    </tr>\n    <tr>\n      <th>15</th>\n      <td>population_density</td>\n      <td>179</td>\n    </tr>\n    <tr>\n      <th>2</th>\n      <td>total_cases</td>\n      <td>181</td>\n    </tr>\n    <tr>\n      <th>8</th>\n      <td>total_cases_per_million</td>\n      <td>181</td>\n    </tr>\n    <tr>\n      <th>1</th>\n      <td>location</td>\n      <td>181</td>\n    </tr>\n    <tr>\n      <th>14</th>\n      <td>population</td>\n      <td>181</td>\n    </tr>\n  </tbody>\n</table>\n</div>"
     },
     "metadata": {},
     "execution_count": 26
    }
   ],
   "source": [
    "cnt = {'col':[],'count':[]}\n",
    "for i in data.columns:\n",
    "    cnt['col'].append(i)\n",
    "    cnt['count'].append(data[i].nunique())\n",
    "d = pd.DataFrame(cnt)\n",
    "d.sort_values('count')"
   ]
  }
 ]
}